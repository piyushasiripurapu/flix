{
  "nbformat": 4,
  "nbformat_minor": 0,
  "metadata": {
    "colab": {
      "provenance": []
    },
    "kernelspec": {
      "name": "python3",
      "display_name": "Python 3"
    },
    "language_info": {
      "name": "python"
    }
  },
  "cells": [
    {
      "cell_type": "markdown",
      "source": [
        "# Medical Insurance Premium Prediction"
      ],
      "metadata": {
        "id": "aFza9YQCcvSS"
      }
    },
    {
      "cell_type": "markdown",
      "source": [
        "The amount of the premium for a health insurance policy depends from person to person, as many factors affect the amount of the premium for a health insurance policy. Let’s say age, a young person is very less likely to have major health problems compared to an older person. Thus, treating an older person will be expensive compared to a young one. That is why an older person is required to pay a high premium compared to a young person.\n",
        "\n",
        "Just like age, many other factors affect the premium for a health insurance policy. Hope you now have understood what health insurance is and how the premium for a health insurance policy is determined. In the section below, I will take you through the task of health insurance premium prediction with machine learning using Python."
      ],
      "metadata": {
        "id": "xwxlOpiNcxho"
      }
    },
    {
      "cell_type": "markdown",
      "source": [
        "Dataset :- https://www.kaggle.com/tejashvi14/medical-insurance-premium-prediction"
      ],
      "metadata": {
        "id": "rsx58evodEAc"
      }
    },
    {
      "cell_type": "code",
      "execution_count": 1,
      "metadata": {
        "id": "QTdMsicdYUH7"
      },
      "outputs": [],
      "source": [
        "#import libraries\n",
        "import numpy as np #2 perform mathematical operations on arrays\n",
        "import pandas as pd #for data analysis\n",
        "\n",
        "from xgboost import XGBRegressor #gradient boosting model used for regression predictive modeling\n",
        "from sklearn.model_selection import train_test_split #measure the accuracy of the model \n",
        "from sklearn.model_selection import cross_val_score #statistical method used to estimate the performance (or accuracy) of machine learning models"
      ]
    },
    {
      "cell_type": "code",
      "source": [
        "#load the dataset 2 pandas data frame for manupulating the data\n",
        "data = pd.read_csv('Medicalpremium.csv', encoding = 'latin-1')\n",
        "\n",
        "#now v hv 2 replace null values with null string otherwise it will show errors\n",
        "#v will store this in variable claaed \"data\"\n",
        "medical_premium_data = data.where((pd.notnull(data)), '')\n",
        "\n",
        "#lets check the shape of the dataset\n",
        "medical_premium_data.shape"
      ],
      "metadata": {
        "colab": {
          "base_uri": "https://localhost:8080/"
        },
        "id": "ml1JMkTzdRZ-",
        "outputId": "f8c591e1-aedf-4b78-a13c-eb421a8c8023"
      },
      "execution_count": 2,
      "outputs": [
        {
          "output_type": "execute_result",
          "data": {
            "text/plain": [
              "(986, 11)"
            ]
          },
          "metadata": {},
          "execution_count": 2
        }
      ]
    },
    {
      "cell_type": "code",
      "source": [
        "#printing the dataset\n",
        "print(medical_premium_data)"
      ],
      "metadata": {
        "id": "5ZPgDMhgdsjo",
        "colab": {
          "base_uri": "https://localhost:8080/"
        },
        "outputId": "adba0c9e-6001-4311-ac34-ef9cae8aca06"
      },
      "execution_count": 3,
      "outputs": [
        {
          "output_type": "stream",
          "name": "stdout",
          "text": [
            "     Age  Diabetes  BloodPressureProblems  AnyTransplants  AnyChronicDiseases  \\\n",
            "0     45         0                      0               0                   0   \n",
            "1     60         1                      0               0                   0   \n",
            "2     36         1                      1               0                   0   \n",
            "3     52         1                      1               0                   1   \n",
            "4     38         0                      0               0                   1   \n",
            "..   ...       ...                    ...             ...                 ...   \n",
            "981   18         0                      0               0                   0   \n",
            "982   64         1                      1               0                   0   \n",
            "983   56         0                      1               0                   0   \n",
            "984   47         1                      1               0                   0   \n",
            "985   21         0                      0               0                   0   \n",
            "\n",
            "     Height  Weight  KnownAllergies  HistoryOfCancerInFamily  \\\n",
            "0       155      57               0                        0   \n",
            "1       180      73               0                        0   \n",
            "2       158      59               0                        0   \n",
            "3       183      93               0                        0   \n",
            "4       166      88               0                        0   \n",
            "..      ...     ...             ...                      ...   \n",
            "981     169      67               0                        0   \n",
            "982     153      70               0                        0   \n",
            "983     155      71               0                        0   \n",
            "984     158      73               1                        0   \n",
            "985     158      75               1                        0   \n",
            "\n",
            "     NumberOfMajorSurgeries  PremiumPrice  \n",
            "0                         0         25000  \n",
            "1                         0         29000  \n",
            "2                         1         23000  \n",
            "3                         2         28000  \n",
            "4                         1         23000  \n",
            "..                      ...           ...  \n",
            "981                       0         15000  \n",
            "982                       3         28000  \n",
            "983                       1         29000  \n",
            "984                       1         39000  \n",
            "985                       1         15000  \n",
            "\n",
            "[986 rows x 11 columns]\n"
          ]
        }
      ]
    },
    {
      "cell_type": "markdown",
      "metadata": {
        "id": "5v_-Z0Kf2wvf"
      },
      "source": [
        "### Printing the head of the dataset to have a look at the dataframe"
      ]
    },
    {
      "cell_type": "code",
      "source": [
        "#lets c sample of this dataset in pandas data frame\n",
        "#first 10 rows of the dataset\n",
        "medical_premium_data.head(10)"
      ],
      "metadata": {
        "id": "KZM-U-KSd6VE",
        "colab": {
          "base_uri": "https://localhost:8080/",
          "height": 427
        },
        "outputId": "7cb94f97-5284-401a-aae2-4e374e67ce4c"
      },
      "execution_count": 4,
      "outputs": [
        {
          "output_type": "execute_result",
          "data": {
            "text/plain": [
              "   Age  Diabetes  BloodPressureProblems  AnyTransplants  AnyChronicDiseases  \\\n",
              "0   45         0                      0               0                   0   \n",
              "1   60         1                      0               0                   0   \n",
              "2   36         1                      1               0                   0   \n",
              "3   52         1                      1               0                   1   \n",
              "4   38         0                      0               0                   1   \n",
              "5   30         0                      0               0                   0   \n",
              "6   33         0                      0               0                   0   \n",
              "7   23         0                      0               0                   0   \n",
              "8   48         1                      0               0                   0   \n",
              "9   38         0                      0               0                   0   \n",
              "\n",
              "   Height  Weight  KnownAllergies  HistoryOfCancerInFamily  \\\n",
              "0     155      57               0                        0   \n",
              "1     180      73               0                        0   \n",
              "2     158      59               0                        0   \n",
              "3     183      93               0                        0   \n",
              "4     166      88               0                        0   \n",
              "5     160      69               1                        0   \n",
              "6     150      54               0                        0   \n",
              "7     181      79               1                        0   \n",
              "8     169      74               1                        0   \n",
              "9     182      93               0                        0   \n",
              "\n",
              "   NumberOfMajorSurgeries  PremiumPrice  \n",
              "0                       0         25000  \n",
              "1                       0         29000  \n",
              "2                       1         23000  \n",
              "3                       2         28000  \n",
              "4                       1         23000  \n",
              "5                       1         23000  \n",
              "6                       0         21000  \n",
              "7                       0         15000  \n",
              "8                       0         23000  \n",
              "9                       0         23000  "
            ],
            "text/html": [
              "\n",
              "  <div id=\"df-d1f581f5-1212-4af3-9ed0-8588649c0489\">\n",
              "    <div class=\"colab-df-container\">\n",
              "      <div>\n",
              "<style scoped>\n",
              "    .dataframe tbody tr th:only-of-type {\n",
              "        vertical-align: middle;\n",
              "    }\n",
              "\n",
              "    .dataframe tbody tr th {\n",
              "        vertical-align: top;\n",
              "    }\n",
              "\n",
              "    .dataframe thead th {\n",
              "        text-align: right;\n",
              "    }\n",
              "</style>\n",
              "<table border=\"1\" class=\"dataframe\">\n",
              "  <thead>\n",
              "    <tr style=\"text-align: right;\">\n",
              "      <th></th>\n",
              "      <th>Age</th>\n",
              "      <th>Diabetes</th>\n",
              "      <th>BloodPressureProblems</th>\n",
              "      <th>AnyTransplants</th>\n",
              "      <th>AnyChronicDiseases</th>\n",
              "      <th>Height</th>\n",
              "      <th>Weight</th>\n",
              "      <th>KnownAllergies</th>\n",
              "      <th>HistoryOfCancerInFamily</th>\n",
              "      <th>NumberOfMajorSurgeries</th>\n",
              "      <th>PremiumPrice</th>\n",
              "    </tr>\n",
              "  </thead>\n",
              "  <tbody>\n",
              "    <tr>\n",
              "      <th>0</th>\n",
              "      <td>45</td>\n",
              "      <td>0</td>\n",
              "      <td>0</td>\n",
              "      <td>0</td>\n",
              "      <td>0</td>\n",
              "      <td>155</td>\n",
              "      <td>57</td>\n",
              "      <td>0</td>\n",
              "      <td>0</td>\n",
              "      <td>0</td>\n",
              "      <td>25000</td>\n",
              "    </tr>\n",
              "    <tr>\n",
              "      <th>1</th>\n",
              "      <td>60</td>\n",
              "      <td>1</td>\n",
              "      <td>0</td>\n",
              "      <td>0</td>\n",
              "      <td>0</td>\n",
              "      <td>180</td>\n",
              "      <td>73</td>\n",
              "      <td>0</td>\n",
              "      <td>0</td>\n",
              "      <td>0</td>\n",
              "      <td>29000</td>\n",
              "    </tr>\n",
              "    <tr>\n",
              "      <th>2</th>\n",
              "      <td>36</td>\n",
              "      <td>1</td>\n",
              "      <td>1</td>\n",
              "      <td>0</td>\n",
              "      <td>0</td>\n",
              "      <td>158</td>\n",
              "      <td>59</td>\n",
              "      <td>0</td>\n",
              "      <td>0</td>\n",
              "      <td>1</td>\n",
              "      <td>23000</td>\n",
              "    </tr>\n",
              "    <tr>\n",
              "      <th>3</th>\n",
              "      <td>52</td>\n",
              "      <td>1</td>\n",
              "      <td>1</td>\n",
              "      <td>0</td>\n",
              "      <td>1</td>\n",
              "      <td>183</td>\n",
              "      <td>93</td>\n",
              "      <td>0</td>\n",
              "      <td>0</td>\n",
              "      <td>2</td>\n",
              "      <td>28000</td>\n",
              "    </tr>\n",
              "    <tr>\n",
              "      <th>4</th>\n",
              "      <td>38</td>\n",
              "      <td>0</td>\n",
              "      <td>0</td>\n",
              "      <td>0</td>\n",
              "      <td>1</td>\n",
              "      <td>166</td>\n",
              "      <td>88</td>\n",
              "      <td>0</td>\n",
              "      <td>0</td>\n",
              "      <td>1</td>\n",
              "      <td>23000</td>\n",
              "    </tr>\n",
              "    <tr>\n",
              "      <th>5</th>\n",
              "      <td>30</td>\n",
              "      <td>0</td>\n",
              "      <td>0</td>\n",
              "      <td>0</td>\n",
              "      <td>0</td>\n",
              "      <td>160</td>\n",
              "      <td>69</td>\n",
              "      <td>1</td>\n",
              "      <td>0</td>\n",
              "      <td>1</td>\n",
              "      <td>23000</td>\n",
              "    </tr>\n",
              "    <tr>\n",
              "      <th>6</th>\n",
              "      <td>33</td>\n",
              "      <td>0</td>\n",
              "      <td>0</td>\n",
              "      <td>0</td>\n",
              "      <td>0</td>\n",
              "      <td>150</td>\n",
              "      <td>54</td>\n",
              "      <td>0</td>\n",
              "      <td>0</td>\n",
              "      <td>0</td>\n",
              "      <td>21000</td>\n",
              "    </tr>\n",
              "    <tr>\n",
              "      <th>7</th>\n",
              "      <td>23</td>\n",
              "      <td>0</td>\n",
              "      <td>0</td>\n",
              "      <td>0</td>\n",
              "      <td>0</td>\n",
              "      <td>181</td>\n",
              "      <td>79</td>\n",
              "      <td>1</td>\n",
              "      <td>0</td>\n",
              "      <td>0</td>\n",
              "      <td>15000</td>\n",
              "    </tr>\n",
              "    <tr>\n",
              "      <th>8</th>\n",
              "      <td>48</td>\n",
              "      <td>1</td>\n",
              "      <td>0</td>\n",
              "      <td>0</td>\n",
              "      <td>0</td>\n",
              "      <td>169</td>\n",
              "      <td>74</td>\n",
              "      <td>1</td>\n",
              "      <td>0</td>\n",
              "      <td>0</td>\n",
              "      <td>23000</td>\n",
              "    </tr>\n",
              "    <tr>\n",
              "      <th>9</th>\n",
              "      <td>38</td>\n",
              "      <td>0</td>\n",
              "      <td>0</td>\n",
              "      <td>0</td>\n",
              "      <td>0</td>\n",
              "      <td>182</td>\n",
              "      <td>93</td>\n",
              "      <td>0</td>\n",
              "      <td>0</td>\n",
              "      <td>0</td>\n",
              "      <td>23000</td>\n",
              "    </tr>\n",
              "  </tbody>\n",
              "</table>\n",
              "</div>\n",
              "      <button class=\"colab-df-convert\" onclick=\"convertToInteractive('df-d1f581f5-1212-4af3-9ed0-8588649c0489')\"\n",
              "              title=\"Convert this dataframe to an interactive table.\"\n",
              "              style=\"display:none;\">\n",
              "        \n",
              "  <svg xmlns=\"http://www.w3.org/2000/svg\" height=\"24px\"viewBox=\"0 0 24 24\"\n",
              "       width=\"24px\">\n",
              "    <path d=\"M0 0h24v24H0V0z\" fill=\"none\"/>\n",
              "    <path d=\"M18.56 5.44l.94 2.06.94-2.06 2.06-.94-2.06-.94-.94-2.06-.94 2.06-2.06.94zm-11 1L8.5 8.5l.94-2.06 2.06-.94-2.06-.94L8.5 2.5l-.94 2.06-2.06.94zm10 10l.94 2.06.94-2.06 2.06-.94-2.06-.94-.94-2.06-.94 2.06-2.06.94z\"/><path d=\"M17.41 7.96l-1.37-1.37c-.4-.4-.92-.59-1.43-.59-.52 0-1.04.2-1.43.59L10.3 9.45l-7.72 7.72c-.78.78-.78 2.05 0 2.83L4 21.41c.39.39.9.59 1.41.59.51 0 1.02-.2 1.41-.59l7.78-7.78 2.81-2.81c.8-.78.8-2.07 0-2.86zM5.41 20L4 18.59l7.72-7.72 1.47 1.35L5.41 20z\"/>\n",
              "  </svg>\n",
              "      </button>\n",
              "      \n",
              "  <style>\n",
              "    .colab-df-container {\n",
              "      display:flex;\n",
              "      flex-wrap:wrap;\n",
              "      gap: 12px;\n",
              "    }\n",
              "\n",
              "    .colab-df-convert {\n",
              "      background-color: #E8F0FE;\n",
              "      border: none;\n",
              "      border-radius: 50%;\n",
              "      cursor: pointer;\n",
              "      display: none;\n",
              "      fill: #1967D2;\n",
              "      height: 32px;\n",
              "      padding: 0 0 0 0;\n",
              "      width: 32px;\n",
              "    }\n",
              "\n",
              "    .colab-df-convert:hover {\n",
              "      background-color: #E2EBFA;\n",
              "      box-shadow: 0px 1px 2px rgba(60, 64, 67, 0.3), 0px 1px 3px 1px rgba(60, 64, 67, 0.15);\n",
              "      fill: #174EA6;\n",
              "    }\n",
              "\n",
              "    [theme=dark] .colab-df-convert {\n",
              "      background-color: #3B4455;\n",
              "      fill: #D2E3FC;\n",
              "    }\n",
              "\n",
              "    [theme=dark] .colab-df-convert:hover {\n",
              "      background-color: #434B5C;\n",
              "      box-shadow: 0px 1px 3px 1px rgba(0, 0, 0, 0.15);\n",
              "      filter: drop-shadow(0px 1px 2px rgba(0, 0, 0, 0.3));\n",
              "      fill: #FFFFFF;\n",
              "    }\n",
              "  </style>\n",
              "\n",
              "      <script>\n",
              "        const buttonEl =\n",
              "          document.querySelector('#df-d1f581f5-1212-4af3-9ed0-8588649c0489 button.colab-df-convert');\n",
              "        buttonEl.style.display =\n",
              "          google.colab.kernel.accessAllowed ? 'block' : 'none';\n",
              "\n",
              "        async function convertToInteractive(key) {\n",
              "          const element = document.querySelector('#df-d1f581f5-1212-4af3-9ed0-8588649c0489');\n",
              "          const dataTable =\n",
              "            await google.colab.kernel.invokeFunction('convertToInteractive',\n",
              "                                                     [key], {});\n",
              "          if (!dataTable) return;\n",
              "\n",
              "          const docLinkHtml = 'Like what you see? Visit the ' +\n",
              "            '<a target=\"_blank\" href=https://colab.research.google.com/notebooks/data_table.ipynb>data table notebook</a>'\n",
              "            + ' to learn more about interactive tables.';\n",
              "          element.innerHTML = '';\n",
              "          dataTable['output_type'] = 'display_data';\n",
              "          await google.colab.output.renderOutput(dataTable, element);\n",
              "          const docLink = document.createElement('div');\n",
              "          docLink.innerHTML = docLinkHtml;\n",
              "          element.appendChild(docLink);\n",
              "        }\n",
              "      </script>\n",
              "    </div>\n",
              "  </div>\n",
              "  "
            ]
          },
          "metadata": {},
          "execution_count": 4
        }
      ]
    },
    {
      "cell_type": "markdown",
      "metadata": {
        "id": "t7hlkjv8xroC"
      },
      "source": [
        "### Printing the tail of the dataset to have a look at the dataframe"
      ]
    },
    {
      "cell_type": "code",
      "source": [
        "#last 10 rows of the dataset\n",
        "medical_premium_data.tail(10)"
      ],
      "metadata": {
        "id": "1m3bSajNeM9G",
        "colab": {
          "base_uri": "https://localhost:8080/",
          "height": 427
        },
        "outputId": "99597386-bd07-4fcf-ad83-7b38a40e8c20"
      },
      "execution_count": 5,
      "outputs": [
        {
          "output_type": "execute_result",
          "data": {
            "text/plain": [
              "     Age  Diabetes  BloodPressureProblems  AnyTransplants  AnyChronicDiseases  \\\n",
              "976   21         0                      1               0                   0   \n",
              "977   45         0                      1               0                   1   \n",
              "978   40         0                      1               1                   0   \n",
              "979   24         0                      0               0                   0   \n",
              "980   40         0                      1               1                   0   \n",
              "981   18         0                      0               0                   0   \n",
              "982   64         1                      1               0                   0   \n",
              "983   56         0                      1               0                   0   \n",
              "984   47         1                      1               0                   0   \n",
              "985   21         0                      0               0                   0   \n",
              "\n",
              "     Height  Weight  KnownAllergies  HistoryOfCancerInFamily  \\\n",
              "976     155      74               0                        0   \n",
              "977     157      67               0                        0   \n",
              "978     168      70               0                        0   \n",
              "979     161      71               0                        0   \n",
              "980     171      74               0                        0   \n",
              "981     169      67               0                        0   \n",
              "982     153      70               0                        0   \n",
              "983     155      71               0                        0   \n",
              "984     158      73               1                        0   \n",
              "985     158      75               1                        0   \n",
              "\n",
              "     NumberOfMajorSurgeries  PremiumPrice  \n",
              "976                       0         39000  \n",
              "977                       1         25000  \n",
              "978                       0         17000  \n",
              "979                       0         15000  \n",
              "980                       0         38000  \n",
              "981                       0         15000  \n",
              "982                       3         28000  \n",
              "983                       1         29000  \n",
              "984                       1         39000  \n",
              "985                       1         15000  "
            ],
            "text/html": [
              "\n",
              "  <div id=\"df-b231414d-0186-42e6-a290-63a6c58dd4a4\">\n",
              "    <div class=\"colab-df-container\">\n",
              "      <div>\n",
              "<style scoped>\n",
              "    .dataframe tbody tr th:only-of-type {\n",
              "        vertical-align: middle;\n",
              "    }\n",
              "\n",
              "    .dataframe tbody tr th {\n",
              "        vertical-align: top;\n",
              "    }\n",
              "\n",
              "    .dataframe thead th {\n",
              "        text-align: right;\n",
              "    }\n",
              "</style>\n",
              "<table border=\"1\" class=\"dataframe\">\n",
              "  <thead>\n",
              "    <tr style=\"text-align: right;\">\n",
              "      <th></th>\n",
              "      <th>Age</th>\n",
              "      <th>Diabetes</th>\n",
              "      <th>BloodPressureProblems</th>\n",
              "      <th>AnyTransplants</th>\n",
              "      <th>AnyChronicDiseases</th>\n",
              "      <th>Height</th>\n",
              "      <th>Weight</th>\n",
              "      <th>KnownAllergies</th>\n",
              "      <th>HistoryOfCancerInFamily</th>\n",
              "      <th>NumberOfMajorSurgeries</th>\n",
              "      <th>PremiumPrice</th>\n",
              "    </tr>\n",
              "  </thead>\n",
              "  <tbody>\n",
              "    <tr>\n",
              "      <th>976</th>\n",
              "      <td>21</td>\n",
              "      <td>0</td>\n",
              "      <td>1</td>\n",
              "      <td>0</td>\n",
              "      <td>0</td>\n",
              "      <td>155</td>\n",
              "      <td>74</td>\n",
              "      <td>0</td>\n",
              "      <td>0</td>\n",
              "      <td>0</td>\n",
              "      <td>39000</td>\n",
              "    </tr>\n",
              "    <tr>\n",
              "      <th>977</th>\n",
              "      <td>45</td>\n",
              "      <td>0</td>\n",
              "      <td>1</td>\n",
              "      <td>0</td>\n",
              "      <td>1</td>\n",
              "      <td>157</td>\n",
              "      <td>67</td>\n",
              "      <td>0</td>\n",
              "      <td>0</td>\n",
              "      <td>1</td>\n",
              "      <td>25000</td>\n",
              "    </tr>\n",
              "    <tr>\n",
              "      <th>978</th>\n",
              "      <td>40</td>\n",
              "      <td>0</td>\n",
              "      <td>1</td>\n",
              "      <td>1</td>\n",
              "      <td>0</td>\n",
              "      <td>168</td>\n",
              "      <td>70</td>\n",
              "      <td>0</td>\n",
              "      <td>0</td>\n",
              "      <td>0</td>\n",
              "      <td>17000</td>\n",
              "    </tr>\n",
              "    <tr>\n",
              "      <th>979</th>\n",
              "      <td>24</td>\n",
              "      <td>0</td>\n",
              "      <td>0</td>\n",
              "      <td>0</td>\n",
              "      <td>0</td>\n",
              "      <td>161</td>\n",
              "      <td>71</td>\n",
              "      <td>0</td>\n",
              "      <td>0</td>\n",
              "      <td>0</td>\n",
              "      <td>15000</td>\n",
              "    </tr>\n",
              "    <tr>\n",
              "      <th>980</th>\n",
              "      <td>40</td>\n",
              "      <td>0</td>\n",
              "      <td>1</td>\n",
              "      <td>1</td>\n",
              "      <td>0</td>\n",
              "      <td>171</td>\n",
              "      <td>74</td>\n",
              "      <td>0</td>\n",
              "      <td>0</td>\n",
              "      <td>0</td>\n",
              "      <td>38000</td>\n",
              "    </tr>\n",
              "    <tr>\n",
              "      <th>981</th>\n",
              "      <td>18</td>\n",
              "      <td>0</td>\n",
              "      <td>0</td>\n",
              "      <td>0</td>\n",
              "      <td>0</td>\n",
              "      <td>169</td>\n",
              "      <td>67</td>\n",
              "      <td>0</td>\n",
              "      <td>0</td>\n",
              "      <td>0</td>\n",
              "      <td>15000</td>\n",
              "    </tr>\n",
              "    <tr>\n",
              "      <th>982</th>\n",
              "      <td>64</td>\n",
              "      <td>1</td>\n",
              "      <td>1</td>\n",
              "      <td>0</td>\n",
              "      <td>0</td>\n",
              "      <td>153</td>\n",
              "      <td>70</td>\n",
              "      <td>0</td>\n",
              "      <td>0</td>\n",
              "      <td>3</td>\n",
              "      <td>28000</td>\n",
              "    </tr>\n",
              "    <tr>\n",
              "      <th>983</th>\n",
              "      <td>56</td>\n",
              "      <td>0</td>\n",
              "      <td>1</td>\n",
              "      <td>0</td>\n",
              "      <td>0</td>\n",
              "      <td>155</td>\n",
              "      <td>71</td>\n",
              "      <td>0</td>\n",
              "      <td>0</td>\n",
              "      <td>1</td>\n",
              "      <td>29000</td>\n",
              "    </tr>\n",
              "    <tr>\n",
              "      <th>984</th>\n",
              "      <td>47</td>\n",
              "      <td>1</td>\n",
              "      <td>1</td>\n",
              "      <td>0</td>\n",
              "      <td>0</td>\n",
              "      <td>158</td>\n",
              "      <td>73</td>\n",
              "      <td>1</td>\n",
              "      <td>0</td>\n",
              "      <td>1</td>\n",
              "      <td>39000</td>\n",
              "    </tr>\n",
              "    <tr>\n",
              "      <th>985</th>\n",
              "      <td>21</td>\n",
              "      <td>0</td>\n",
              "      <td>0</td>\n",
              "      <td>0</td>\n",
              "      <td>0</td>\n",
              "      <td>158</td>\n",
              "      <td>75</td>\n",
              "      <td>1</td>\n",
              "      <td>0</td>\n",
              "      <td>1</td>\n",
              "      <td>15000</td>\n",
              "    </tr>\n",
              "  </tbody>\n",
              "</table>\n",
              "</div>\n",
              "      <button class=\"colab-df-convert\" onclick=\"convertToInteractive('df-b231414d-0186-42e6-a290-63a6c58dd4a4')\"\n",
              "              title=\"Convert this dataframe to an interactive table.\"\n",
              "              style=\"display:none;\">\n",
              "        \n",
              "  <svg xmlns=\"http://www.w3.org/2000/svg\" height=\"24px\"viewBox=\"0 0 24 24\"\n",
              "       width=\"24px\">\n",
              "    <path d=\"M0 0h24v24H0V0z\" fill=\"none\"/>\n",
              "    <path d=\"M18.56 5.44l.94 2.06.94-2.06 2.06-.94-2.06-.94-.94-2.06-.94 2.06-2.06.94zm-11 1L8.5 8.5l.94-2.06 2.06-.94-2.06-.94L8.5 2.5l-.94 2.06-2.06.94zm10 10l.94 2.06.94-2.06 2.06-.94-2.06-.94-.94-2.06-.94 2.06-2.06.94z\"/><path d=\"M17.41 7.96l-1.37-1.37c-.4-.4-.92-.59-1.43-.59-.52 0-1.04.2-1.43.59L10.3 9.45l-7.72 7.72c-.78.78-.78 2.05 0 2.83L4 21.41c.39.39.9.59 1.41.59.51 0 1.02-.2 1.41-.59l7.78-7.78 2.81-2.81c.8-.78.8-2.07 0-2.86zM5.41 20L4 18.59l7.72-7.72 1.47 1.35L5.41 20z\"/>\n",
              "  </svg>\n",
              "      </button>\n",
              "      \n",
              "  <style>\n",
              "    .colab-df-container {\n",
              "      display:flex;\n",
              "      flex-wrap:wrap;\n",
              "      gap: 12px;\n",
              "    }\n",
              "\n",
              "    .colab-df-convert {\n",
              "      background-color: #E8F0FE;\n",
              "      border: none;\n",
              "      border-radius: 50%;\n",
              "      cursor: pointer;\n",
              "      display: none;\n",
              "      fill: #1967D2;\n",
              "      height: 32px;\n",
              "      padding: 0 0 0 0;\n",
              "      width: 32px;\n",
              "    }\n",
              "\n",
              "    .colab-df-convert:hover {\n",
              "      background-color: #E2EBFA;\n",
              "      box-shadow: 0px 1px 2px rgba(60, 64, 67, 0.3), 0px 1px 3px 1px rgba(60, 64, 67, 0.15);\n",
              "      fill: #174EA6;\n",
              "    }\n",
              "\n",
              "    [theme=dark] .colab-df-convert {\n",
              "      background-color: #3B4455;\n",
              "      fill: #D2E3FC;\n",
              "    }\n",
              "\n",
              "    [theme=dark] .colab-df-convert:hover {\n",
              "      background-color: #434B5C;\n",
              "      box-shadow: 0px 1px 3px 1px rgba(0, 0, 0, 0.15);\n",
              "      filter: drop-shadow(0px 1px 2px rgba(0, 0, 0, 0.3));\n",
              "      fill: #FFFFFF;\n",
              "    }\n",
              "  </style>\n",
              "\n",
              "      <script>\n",
              "        const buttonEl =\n",
              "          document.querySelector('#df-b231414d-0186-42e6-a290-63a6c58dd4a4 button.colab-df-convert');\n",
              "        buttonEl.style.display =\n",
              "          google.colab.kernel.accessAllowed ? 'block' : 'none';\n",
              "\n",
              "        async function convertToInteractive(key) {\n",
              "          const element = document.querySelector('#df-b231414d-0186-42e6-a290-63a6c58dd4a4');\n",
              "          const dataTable =\n",
              "            await google.colab.kernel.invokeFunction('convertToInteractive',\n",
              "                                                     [key], {});\n",
              "          if (!dataTable) return;\n",
              "\n",
              "          const docLinkHtml = 'Like what you see? Visit the ' +\n",
              "            '<a target=\"_blank\" href=https://colab.research.google.com/notebooks/data_table.ipynb>data table notebook</a>'\n",
              "            + ' to learn more about interactive tables.';\n",
              "          element.innerHTML = '';\n",
              "          dataTable['output_type'] = 'display_data';\n",
              "          await google.colab.output.renderOutput(dataTable, element);\n",
              "          const docLink = document.createElement('div');\n",
              "          docLink.innerHTML = docLinkHtml;\n",
              "          element.appendChild(docLink);\n",
              "        }\n",
              "      </script>\n",
              "    </div>\n",
              "  </div>\n",
              "  "
            ]
          },
          "metadata": {},
          "execution_count": 5
        }
      ]
    },
    {
      "cell_type": "code",
      "source": [
        "#dataset informations\n",
        "medical_premium_data.info()"
      ],
      "metadata": {
        "id": "6pvEswZEeUne",
        "colab": {
          "base_uri": "https://localhost:8080/"
        },
        "outputId": "642a49a6-84ff-4326-a8f0-e3549b08d00b"
      },
      "execution_count": 6,
      "outputs": [
        {
          "output_type": "stream",
          "name": "stdout",
          "text": [
            "<class 'pandas.core.frame.DataFrame'>\n",
            "RangeIndex: 986 entries, 0 to 985\n",
            "Data columns (total 11 columns):\n",
            " #   Column                   Non-Null Count  Dtype\n",
            "---  ------                   --------------  -----\n",
            " 0   Age                      986 non-null    int64\n",
            " 1   Diabetes                 986 non-null    int64\n",
            " 2   BloodPressureProblems    986 non-null    int64\n",
            " 3   AnyTransplants           986 non-null    int64\n",
            " 4   AnyChronicDiseases       986 non-null    int64\n",
            " 5   Height                   986 non-null    int64\n",
            " 6   Weight                   986 non-null    int64\n",
            " 7   KnownAllergies           986 non-null    int64\n",
            " 8   HistoryOfCancerInFamily  986 non-null    int64\n",
            " 9   NumberOfMajorSurgeries   986 non-null    int64\n",
            " 10  PremiumPrice             986 non-null    int64\n",
            "dtypes: int64(11)\n",
            "memory usage: 84.9 KB\n"
          ]
        }
      ]
    },
    {
      "cell_type": "code",
      "source": [
        "#data preprocessing 2 check whether if there r any empty values\n",
        "#checking the number of missing values in each column\n",
        "medical_premium_data.isnull().sum()"
      ],
      "metadata": {
        "id": "eBhOf1QzedBN",
        "colab": {
          "base_uri": "https://localhost:8080/"
        },
        "outputId": "14da3d4d-f57c-4165-804b-8c809c33f67e"
      },
      "execution_count": 7,
      "outputs": [
        {
          "output_type": "execute_result",
          "data": {
            "text/plain": [
              "Age                        0\n",
              "Diabetes                   0\n",
              "BloodPressureProblems      0\n",
              "AnyTransplants             0\n",
              "AnyChronicDiseases         0\n",
              "Height                     0\n",
              "Weight                     0\n",
              "KnownAllergies             0\n",
              "HistoryOfCancerInFamily    0\n",
              "NumberOfMajorSurgeries     0\n",
              "PremiumPrice               0\n",
              "dtype: int64"
            ]
          },
          "metadata": {},
          "execution_count": 7
        }
      ]
    },
    {
      "cell_type": "code",
      "source": [
        "#statistical Measures of the dataset\n",
        "medical_premium_data.describe()"
      ],
      "metadata": {
        "id": "XOLmvQ-ciNQe",
        "colab": {
          "base_uri": "https://localhost:8080/",
          "height": 364
        },
        "outputId": "f71b2491-0136-4833-cdfe-b4156459f42d"
      },
      "execution_count": 8,
      "outputs": [
        {
          "output_type": "execute_result",
          "data": {
            "text/plain": [
              "              Age    Diabetes  BloodPressureProblems  AnyTransplants  \\\n",
              "count  986.000000  986.000000             986.000000      986.000000   \n",
              "mean    41.745436    0.419878               0.468560        0.055781   \n",
              "std     13.963371    0.493789               0.499264        0.229615   \n",
              "min     18.000000    0.000000               0.000000        0.000000   \n",
              "25%     30.000000    0.000000               0.000000        0.000000   \n",
              "50%     42.000000    0.000000               0.000000        0.000000   \n",
              "75%     53.000000    1.000000               1.000000        0.000000   \n",
              "max     66.000000    1.000000               1.000000        1.000000   \n",
              "\n",
              "       AnyChronicDiseases      Height      Weight  KnownAllergies  \\\n",
              "count          986.000000  986.000000  986.000000      986.000000   \n",
              "mean             0.180527  168.182556   76.950304        0.215010   \n",
              "std              0.384821   10.098155   14.265096        0.411038   \n",
              "min              0.000000  145.000000   51.000000        0.000000   \n",
              "25%              0.000000  161.000000   67.000000        0.000000   \n",
              "50%              0.000000  168.000000   75.000000        0.000000   \n",
              "75%              0.000000  176.000000   87.000000        0.000000   \n",
              "max              1.000000  188.000000  132.000000        1.000000   \n",
              "\n",
              "       HistoryOfCancerInFamily  NumberOfMajorSurgeries  PremiumPrice  \n",
              "count               986.000000              986.000000    986.000000  \n",
              "mean                  0.117647                0.667343  24336.713996  \n",
              "std                   0.322353                0.749205   6248.184382  \n",
              "min                   0.000000                0.000000  15000.000000  \n",
              "25%                   0.000000                0.000000  21000.000000  \n",
              "50%                   0.000000                1.000000  23000.000000  \n",
              "75%                   0.000000                1.000000  28000.000000  \n",
              "max                   1.000000                3.000000  40000.000000  "
            ],
            "text/html": [
              "\n",
              "  <div id=\"df-e89b3ee7-295e-4e60-8afd-81a63e56a851\">\n",
              "    <div class=\"colab-df-container\">\n",
              "      <div>\n",
              "<style scoped>\n",
              "    .dataframe tbody tr th:only-of-type {\n",
              "        vertical-align: middle;\n",
              "    }\n",
              "\n",
              "    .dataframe tbody tr th {\n",
              "        vertical-align: top;\n",
              "    }\n",
              "\n",
              "    .dataframe thead th {\n",
              "        text-align: right;\n",
              "    }\n",
              "</style>\n",
              "<table border=\"1\" class=\"dataframe\">\n",
              "  <thead>\n",
              "    <tr style=\"text-align: right;\">\n",
              "      <th></th>\n",
              "      <th>Age</th>\n",
              "      <th>Diabetes</th>\n",
              "      <th>BloodPressureProblems</th>\n",
              "      <th>AnyTransplants</th>\n",
              "      <th>AnyChronicDiseases</th>\n",
              "      <th>Height</th>\n",
              "      <th>Weight</th>\n",
              "      <th>KnownAllergies</th>\n",
              "      <th>HistoryOfCancerInFamily</th>\n",
              "      <th>NumberOfMajorSurgeries</th>\n",
              "      <th>PremiumPrice</th>\n",
              "    </tr>\n",
              "  </thead>\n",
              "  <tbody>\n",
              "    <tr>\n",
              "      <th>count</th>\n",
              "      <td>986.000000</td>\n",
              "      <td>986.000000</td>\n",
              "      <td>986.000000</td>\n",
              "      <td>986.000000</td>\n",
              "      <td>986.000000</td>\n",
              "      <td>986.000000</td>\n",
              "      <td>986.000000</td>\n",
              "      <td>986.000000</td>\n",
              "      <td>986.000000</td>\n",
              "      <td>986.000000</td>\n",
              "      <td>986.000000</td>\n",
              "    </tr>\n",
              "    <tr>\n",
              "      <th>mean</th>\n",
              "      <td>41.745436</td>\n",
              "      <td>0.419878</td>\n",
              "      <td>0.468560</td>\n",
              "      <td>0.055781</td>\n",
              "      <td>0.180527</td>\n",
              "      <td>168.182556</td>\n",
              "      <td>76.950304</td>\n",
              "      <td>0.215010</td>\n",
              "      <td>0.117647</td>\n",
              "      <td>0.667343</td>\n",
              "      <td>24336.713996</td>\n",
              "    </tr>\n",
              "    <tr>\n",
              "      <th>std</th>\n",
              "      <td>13.963371</td>\n",
              "      <td>0.493789</td>\n",
              "      <td>0.499264</td>\n",
              "      <td>0.229615</td>\n",
              "      <td>0.384821</td>\n",
              "      <td>10.098155</td>\n",
              "      <td>14.265096</td>\n",
              "      <td>0.411038</td>\n",
              "      <td>0.322353</td>\n",
              "      <td>0.749205</td>\n",
              "      <td>6248.184382</td>\n",
              "    </tr>\n",
              "    <tr>\n",
              "      <th>min</th>\n",
              "      <td>18.000000</td>\n",
              "      <td>0.000000</td>\n",
              "      <td>0.000000</td>\n",
              "      <td>0.000000</td>\n",
              "      <td>0.000000</td>\n",
              "      <td>145.000000</td>\n",
              "      <td>51.000000</td>\n",
              "      <td>0.000000</td>\n",
              "      <td>0.000000</td>\n",
              "      <td>0.000000</td>\n",
              "      <td>15000.000000</td>\n",
              "    </tr>\n",
              "    <tr>\n",
              "      <th>25%</th>\n",
              "      <td>30.000000</td>\n",
              "      <td>0.000000</td>\n",
              "      <td>0.000000</td>\n",
              "      <td>0.000000</td>\n",
              "      <td>0.000000</td>\n",
              "      <td>161.000000</td>\n",
              "      <td>67.000000</td>\n",
              "      <td>0.000000</td>\n",
              "      <td>0.000000</td>\n",
              "      <td>0.000000</td>\n",
              "      <td>21000.000000</td>\n",
              "    </tr>\n",
              "    <tr>\n",
              "      <th>50%</th>\n",
              "      <td>42.000000</td>\n",
              "      <td>0.000000</td>\n",
              "      <td>0.000000</td>\n",
              "      <td>0.000000</td>\n",
              "      <td>0.000000</td>\n",
              "      <td>168.000000</td>\n",
              "      <td>75.000000</td>\n",
              "      <td>0.000000</td>\n",
              "      <td>0.000000</td>\n",
              "      <td>1.000000</td>\n",
              "      <td>23000.000000</td>\n",
              "    </tr>\n",
              "    <tr>\n",
              "      <th>75%</th>\n",
              "      <td>53.000000</td>\n",
              "      <td>1.000000</td>\n",
              "      <td>1.000000</td>\n",
              "      <td>0.000000</td>\n",
              "      <td>0.000000</td>\n",
              "      <td>176.000000</td>\n",
              "      <td>87.000000</td>\n",
              "      <td>0.000000</td>\n",
              "      <td>0.000000</td>\n",
              "      <td>1.000000</td>\n",
              "      <td>28000.000000</td>\n",
              "    </tr>\n",
              "    <tr>\n",
              "      <th>max</th>\n",
              "      <td>66.000000</td>\n",
              "      <td>1.000000</td>\n",
              "      <td>1.000000</td>\n",
              "      <td>1.000000</td>\n",
              "      <td>1.000000</td>\n",
              "      <td>188.000000</td>\n",
              "      <td>132.000000</td>\n",
              "      <td>1.000000</td>\n",
              "      <td>1.000000</td>\n",
              "      <td>3.000000</td>\n",
              "      <td>40000.000000</td>\n",
              "    </tr>\n",
              "  </tbody>\n",
              "</table>\n",
              "</div>\n",
              "      <button class=\"colab-df-convert\" onclick=\"convertToInteractive('df-e89b3ee7-295e-4e60-8afd-81a63e56a851')\"\n",
              "              title=\"Convert this dataframe to an interactive table.\"\n",
              "              style=\"display:none;\">\n",
              "        \n",
              "  <svg xmlns=\"http://www.w3.org/2000/svg\" height=\"24px\"viewBox=\"0 0 24 24\"\n",
              "       width=\"24px\">\n",
              "    <path d=\"M0 0h24v24H0V0z\" fill=\"none\"/>\n",
              "    <path d=\"M18.56 5.44l.94 2.06.94-2.06 2.06-.94-2.06-.94-.94-2.06-.94 2.06-2.06.94zm-11 1L8.5 8.5l.94-2.06 2.06-.94-2.06-.94L8.5 2.5l-.94 2.06-2.06.94zm10 10l.94 2.06.94-2.06 2.06-.94-2.06-.94-.94-2.06-.94 2.06-2.06.94z\"/><path d=\"M17.41 7.96l-1.37-1.37c-.4-.4-.92-.59-1.43-.59-.52 0-1.04.2-1.43.59L10.3 9.45l-7.72 7.72c-.78.78-.78 2.05 0 2.83L4 21.41c.39.39.9.59 1.41.59.51 0 1.02-.2 1.41-.59l7.78-7.78 2.81-2.81c.8-.78.8-2.07 0-2.86zM5.41 20L4 18.59l7.72-7.72 1.47 1.35L5.41 20z\"/>\n",
              "  </svg>\n",
              "      </button>\n",
              "      \n",
              "  <style>\n",
              "    .colab-df-container {\n",
              "      display:flex;\n",
              "      flex-wrap:wrap;\n",
              "      gap: 12px;\n",
              "    }\n",
              "\n",
              "    .colab-df-convert {\n",
              "      background-color: #E8F0FE;\n",
              "      border: none;\n",
              "      border-radius: 50%;\n",
              "      cursor: pointer;\n",
              "      display: none;\n",
              "      fill: #1967D2;\n",
              "      height: 32px;\n",
              "      padding: 0 0 0 0;\n",
              "      width: 32px;\n",
              "    }\n",
              "\n",
              "    .colab-df-convert:hover {\n",
              "      background-color: #E2EBFA;\n",
              "      box-shadow: 0px 1px 2px rgba(60, 64, 67, 0.3), 0px 1px 3px 1px rgba(60, 64, 67, 0.15);\n",
              "      fill: #174EA6;\n",
              "    }\n",
              "\n",
              "    [theme=dark] .colab-df-convert {\n",
              "      background-color: #3B4455;\n",
              "      fill: #D2E3FC;\n",
              "    }\n",
              "\n",
              "    [theme=dark] .colab-df-convert:hover {\n",
              "      background-color: #434B5C;\n",
              "      box-shadow: 0px 1px 3px 1px rgba(0, 0, 0, 0.15);\n",
              "      filter: drop-shadow(0px 1px 2px rgba(0, 0, 0, 0.3));\n",
              "      fill: #FFFFFF;\n",
              "    }\n",
              "  </style>\n",
              "\n",
              "      <script>\n",
              "        const buttonEl =\n",
              "          document.querySelector('#df-e89b3ee7-295e-4e60-8afd-81a63e56a851 button.colab-df-convert');\n",
              "        buttonEl.style.display =\n",
              "          google.colab.kernel.accessAllowed ? 'block' : 'none';\n",
              "\n",
              "        async function convertToInteractive(key) {\n",
              "          const element = document.querySelector('#df-e89b3ee7-295e-4e60-8afd-81a63e56a851');\n",
              "          const dataTable =\n",
              "            await google.colab.kernel.invokeFunction('convertToInteractive',\n",
              "                                                     [key], {});\n",
              "          if (!dataTable) return;\n",
              "\n",
              "          const docLinkHtml = 'Like what you see? Visit the ' +\n",
              "            '<a target=\"_blank\" href=https://colab.research.google.com/notebooks/data_table.ipynb>data table notebook</a>'\n",
              "            + ' to learn more about interactive tables.';\n",
              "          element.innerHTML = '';\n",
              "          dataTable['output_type'] = 'display_data';\n",
              "          await google.colab.output.renderOutput(dataTable, element);\n",
              "          const docLink = document.createElement('div');\n",
              "          docLink.innerHTML = docLinkHtml;\n",
              "          element.appendChild(docLink);\n",
              "        }\n",
              "      </script>\n",
              "    </div>\n",
              "  </div>\n",
              "  "
            ]
          },
          "metadata": {},
          "execution_count": 8
        }
      ]
    },
    {
      "cell_type": "markdown",
      "metadata": {
        "id": "EL0T11t-ZdNF"
      },
      "source": [
        "Splitting the Features and Target"
      ]
    },
    {
      "cell_type": "code",
      "source": [
        "#assigning features as X\n",
        "#v r gonna drop the class column \n",
        "#as v r droping the column v need 2 mention axis = 1\n",
        "X = medical_premium_data.drop(columns='PremiumPrice', axis=1)\n",
        "\n",
        "#assigning targets as Y\n",
        "Y = medical_premium_data['PremiumPrice']"
      ],
      "metadata": {
        "id": "js8fHeZ-i6h-"
      },
      "execution_count": 9,
      "outputs": []
    },
    {
      "cell_type": "code",
      "source": [
        "print(X) #printing the features\n",
        "print(\"---------------------------------------------------------------------------------------------\")\n",
        "print(Y) #printing the target"
      ],
      "metadata": {
        "id": "HznhFh9bjFn8",
        "colab": {
          "base_uri": "https://localhost:8080/"
        },
        "outputId": "c58a01be-e671-4df6-d69d-0f937b3a0ba5"
      },
      "execution_count": 10,
      "outputs": [
        {
          "output_type": "stream",
          "name": "stdout",
          "text": [
            "     Age  Diabetes  BloodPressureProblems  AnyTransplants  AnyChronicDiseases  \\\n",
            "0     45         0                      0               0                   0   \n",
            "1     60         1                      0               0                   0   \n",
            "2     36         1                      1               0                   0   \n",
            "3     52         1                      1               0                   1   \n",
            "4     38         0                      0               0                   1   \n",
            "..   ...       ...                    ...             ...                 ...   \n",
            "981   18         0                      0               0                   0   \n",
            "982   64         1                      1               0                   0   \n",
            "983   56         0                      1               0                   0   \n",
            "984   47         1                      1               0                   0   \n",
            "985   21         0                      0               0                   0   \n",
            "\n",
            "     Height  Weight  KnownAllergies  HistoryOfCancerInFamily  \\\n",
            "0       155      57               0                        0   \n",
            "1       180      73               0                        0   \n",
            "2       158      59               0                        0   \n",
            "3       183      93               0                        0   \n",
            "4       166      88               0                        0   \n",
            "..      ...     ...             ...                      ...   \n",
            "981     169      67               0                        0   \n",
            "982     153      70               0                        0   \n",
            "983     155      71               0                        0   \n",
            "984     158      73               1                        0   \n",
            "985     158      75               1                        0   \n",
            "\n",
            "     NumberOfMajorSurgeries  \n",
            "0                         0  \n",
            "1                         0  \n",
            "2                         1  \n",
            "3                         2  \n",
            "4                         1  \n",
            "..                      ...  \n",
            "981                       0  \n",
            "982                       3  \n",
            "983                       1  \n",
            "984                       1  \n",
            "985                       1  \n",
            "\n",
            "[986 rows x 10 columns]\n",
            "---------------------------------------------------------------------------------------------\n",
            "0      25000\n",
            "1      29000\n",
            "2      23000\n",
            "3      28000\n",
            "4      23000\n",
            "       ...  \n",
            "981    15000\n",
            "982    28000\n",
            "983    29000\n",
            "984    39000\n",
            "985    15000\n",
            "Name: PremiumPrice, Length: 986, dtype: int64\n"
          ]
        }
      ]
    },
    {
      "cell_type": "markdown",
      "metadata": {
        "id": "0MKrr9LW2wwf"
      },
      "source": [
        "## Dividing data into train and test data using sklearn's train_test_split()"
      ]
    },
    {
      "cell_type": "code",
      "source": [
        "#spliting the dataset in2 Training & Testing\n",
        "\n",
        "#test size --> 2 specify the percentage of test data needed ==> 0.2 ==> 20%\n",
        "\n",
        "#random state --> specific split of data each value of random_state splits the data differently, v can put any state v want\n",
        "#v need 2 specify the same random_state everytym if v want 2 split the data the same way everytym\n",
        "X_train, X_test, Y_train, Y_test = train_test_split(X.values, Y.values, test_size = 0.2, random_state = 2)"
      ],
      "metadata": {
        "id": "aDqVZSy-jSa9"
      },
      "execution_count": 11,
      "outputs": []
    },
    {
      "cell_type": "code",
      "source": [
        "#lets c how many examples r there for each cases\n",
        "#checking dimensions of Features\n",
        "print(X.shape, X_train.shape, X_test.shape)"
      ],
      "metadata": {
        "id": "XrIVZ7kkj2qN",
        "colab": {
          "base_uri": "https://localhost:8080/"
        },
        "outputId": "caab599c-a287-4ed9-df1b-c8fb37a7959f"
      },
      "execution_count": 12,
      "outputs": [
        {
          "output_type": "stream",
          "name": "stdout",
          "text": [
            "(986, 10) (788, 10) (198, 10)\n"
          ]
        }
      ]
    },
    {
      "cell_type": "code",
      "source": [
        "#lets c how many examples r there for each cases\n",
        "#checking dimensions of Targets\n",
        "print(Y.shape, Y_train.shape, Y_test.shape)"
      ],
      "metadata": {
        "id": "Lij2v3UJkFw2",
        "colab": {
          "base_uri": "https://localhost:8080/"
        },
        "outputId": "e032ec30-b7a8-4248-aa31-ede89d965766"
      },
      "execution_count": 13,
      "outputs": [
        {
          "output_type": "stream",
          "name": "stdout",
          "text": [
            "(986,) (788,) (198,)\n"
          ]
        }
      ]
    },
    {
      "cell_type": "markdown",
      "metadata": {
        "id": "Q7tDfIDI2ww1"
      },
      "source": [
        "## Our data is ready to be applied a machine learning algorithm"
      ]
    },
    {
      "cell_type": "markdown",
      "metadata": {
        "id": "dLBMl-35UlLy"
      },
      "source": [
        "## XGBoost Regressor\n",
        "\n",
        "This is type of Decision Tree based ensemble model(use 1 or more model so its lyk incorporating 2 or more models together) "
      ]
    },
    {
      "cell_type": "code",
      "source": [
        "# loading the model\n",
        "# training the model with training data\n",
        "model = XGBRegressor().fit(X_train, Y_train)"
      ],
      "metadata": {
        "id": "RgoASsR8nOV3"
      },
      "execution_count": 14,
      "outputs": []
    },
    {
      "cell_type": "markdown",
      "metadata": {
        "id": "flLAggHEVXk7"
      },
      "source": [
        "Evaluation"
      ]
    },
    {
      "cell_type": "markdown",
      "metadata": {
        "id": "av8hCGqRVlcl"
      },
      "source": [
        "Prediction on training data"
      ]
    },
    {
      "cell_type": "code",
      "source": [
        "# accuracy for prediction on training data\n",
        "training_data_prediction = model.predict(X_train)\n",
        "training_data_prediction"
      ],
      "metadata": {
        "id": "MfgxueZHnW-Y",
        "colab": {
          "base_uri": "https://localhost:8080/"
        },
        "outputId": "2a17609f-d7d4-4f6d-8322-3a9b085fec0c"
      },
      "execution_count": 15,
      "outputs": [
        {
          "output_type": "execute_result",
          "data": {
            "text/plain": [
              "array([29072.727 , 29099.766 , 28991.11  , 15042.729 , 24935.96  ,\n",
              "       14968.284 , 14876.2295, 14934.355 , 28059.701 , 22978.86  ,\n",
              "       28936.896 , 27982.852 , 29043.248 , 15009.639 , 27971.09  ,\n",
              "       28013.03  , 29034.24  , 34993.633 , 23002.176 , 37919.215 ,\n",
              "       27908.824 , 23920.936 , 15011.43  , 25048.225 , 29039.893 ,\n",
              "       15005.502 , 15011.429 , 34980.355 , 22836.924 , 15072.412 ,\n",
              "       22869.37  , 31550.19  , 22990.285 , 25604.45  , 28012.98  ,\n",
              "       22903.848 , 22957.54  , 24814.297 , 15040.018 , 25044.486 ,\n",
              "       23110.758 , 25088.139 , 30999.52  , 15145.787 , 24872.61  ,\n",
              "       23064.81  , 29029.814 , 29936.385 , 23086.549 , 14963.112 ,\n",
              "       15071.051 , 15121.25  , 29943.951 , 20977.455 , 23030.13  ,\n",
              "       14913.5205, 23046.727 , 22993.297 , 14951.567 , 27960.668 ,\n",
              "       27956.238 , 28072.129 , 34969.12  , 14992.166 , 14997.585 ,\n",
              "       37952.844 , 15038.15  , 14977.477 , 25006.957 , 23030.691 ,\n",
              "       37842.125 , 34977.45  , 27974.691 , 39002.55  , 35006.242 ,\n",
              "       14961.394 , 22967.354 , 25952.379 , 14863.807 , 25050.797 ,\n",
              "       21043.135 , 23034.037 , 22990.041 , 30878.797 , 34915.26  ,\n",
              "       25146.752 , 27945.168 , 24929.572 , 29056.803 , 23183.635 ,\n",
              "       35060.086 , 28941.082 , 34004.348 , 24983.7   , 15021.35  ,\n",
              "       25078.19  , 14916.757 , 29924.875 , 14993.392 , 29031.422 ,\n",
              "       22974.133 , 23071.697 , 14923.6045, 27912.791 , 20908.547 ,\n",
              "       23038.205 , 25238.203 , 22895.69  , 30170.748 , 24995.559 ,\n",
              "       22962.783 , 30197.57  , 21023.434 , 14975.012 , 15017.618 ,\n",
              "       31868.668 , 22973.836 , 35025.93  , 22934.098 , 19128.887 ,\n",
              "       27864.658 , 28014.303 , 22866.1   , 28995.441 , 31046.791 ,\n",
              "       24949.037 , 28038.271 , 28937.197 , 15105.613 , 18904.94  ,\n",
              "       35096.33  , 14982.524 , 34974.65  , 37983.582 , 38367.094 ,\n",
              "       14982.887 , 14986.015 , 29782.08  , 38134.625 , 27895.67  ,\n",
              "       15093.301 , 28198.16  , 30970.87  , 15021.743 , 25237.117 ,\n",
              "       22888.465 , 30048.584 , 23079.842 , 34833.215 , 30002.48  ,\n",
              "       22963.164 , 27983.727 , 28011.729 , 15050.533 , 25070.688 ,\n",
              "       23082.139 , 14942.631 , 30007.293 , 22947.357 , 22780.096 ,\n",
              "       22883.555 , 23926.922 , 23053.191 , 14994.207 , 29997.479 ,\n",
              "       27986.035 , 14980.385 , 14955.352 , 23024.127 , 27996.268 ,\n",
              "       30977.008 , 14994.051 , 22969.633 , 22892.066 , 15008.471 ,\n",
              "       23031.021 , 21005.543 , 22972.053 , 29527.48  , 25032.504 ,\n",
              "       15029.315 , 14985.74  , 14949.905 , 25950.521 , 28985.955 ,\n",
              "       15101.633 , 23068.52  , 27932.574 , 14893.805 , 24959.232 ,\n",
              "       14980.429 , 27945.04  , 33347.156 , 14928.135 , 28049.828 ,\n",
              "       15139.673 , 14966.562 , 34885.293 , 23128.676 , 27994.844 ,\n",
              "       24971.695 , 15058.149 , 15042.022 , 15065.584 , 29033.41  ,\n",
              "       35019.453 , 15015.767 , 27991.898 , 22994.098 , 34976.953 ,\n",
              "       28029.418 , 27986.795 , 29046.896 , 22826.39  , 25002.129 ,\n",
              "       38018.215 , 14891.49  , 23041.838 , 23013.014 , 34983.004 ,\n",
              "       23020.68  , 27996.85  , 19133.928 , 35027.13  , 22950.766 ,\n",
              "       28025.156 , 38765.2   , 37984.637 , 23316.143 , 30984.19  ,\n",
              "       14973.676 , 35009.676 , 29669.879 , 22743.078 , 30981.258 ,\n",
              "       27954.916 , 23142.953 , 28036.188 , 14898.863 , 29015.842 ,\n",
              "       23050.316 , 15051.729 , 37945.18  , 23017.512 , 14968.629 ,\n",
              "       24953.691 , 15012.37  , 28076.21  , 24886.047 , 29960.123 ,\n",
              "       25087.889 , 25096.568 , 29102.87  , 22813.896 , 23255.621 ,\n",
              "       15031.906 , 24987.47  , 34877.527 , 22961.23  , 35005.45  ,\n",
              "       15012.458 , 37943.293 , 23358.344 , 34956.2   , 23047.676 ,\n",
              "       23037.352 , 22937.006 , 23090.21  , 23136.695 , 22966.883 ,\n",
              "       14976.439 , 27891.982 , 22942.219 , 29052.762 , 25112.025 ,\n",
              "       27794.77  , 28021.346 , 38077.48  , 23067.176 , 28005.46  ,\n",
              "       24957.748 , 15011.548 , 25897.686 , 30160.857 , 22950.49  ,\n",
              "       15053.3125, 14953.425 , 24988.822 , 31092.045 , 30968.043 ,\n",
              "       22998.371 , 25026.463 , 14967.779 , 25113.24  , 23101.797 ,\n",
              "       28041.064 , 28973.148 , 34966.78  , 29084.328 , 28986.19  ,\n",
              "       25044.053 , 28048.387 , 15111.359 , 22939.768 , 23073.7   ,\n",
              "       27993.412 , 28022.75  , 27986.463 , 29051.113 , 28819.191 ,\n",
              "       29957.496 , 14979.606 , 38009.32  , 24990.223 , 29009.06  ,\n",
              "       23011.473 , 23044.656 , 23291.824 , 14972.675 , 14934.997 ,\n",
              "       28858.754 , 29074.621 , 24825.203 , 15039.173 , 14873.743 ,\n",
              "       28979.13  , 31013.123 , 25172.436 , 28074.03  , 14983.235 ,\n",
              "       15113.578 , 27990.793 , 15000.62  , 30872.924 , 35020.62  ,\n",
              "       22917.826 , 28010.166 , 28027.379 , 24043.61  , 29735.424 ,\n",
              "       22719.375 , 22928.188 , 37874.566 , 15062.216 , 21208.988 ,\n",
              "       22986.14  , 18950.496 , 20970.799 , 28056.73  , 22990.047 ,\n",
              "       15049.218 , 14929.546 , 15112.648 , 38034.836 , 27955.246 ,\n",
              "       25007.225 , 23130.885 , 15049.93  , 22768.5   , 22817.826 ,\n",
              "       28849.602 , 22768.07  , 21006.111 , 14954.535 , 25147.74  ,\n",
              "       22978.023 , 37943.383 , 28017.16  , 25104.178 , 35015.426 ,\n",
              "       24964.705 , 22911.736 , 24949.836 , 27977.715 , 22819.71  ,\n",
              "       19107.734 , 27972.293 , 27856.193 , 29193.34  , 14992.761 ,\n",
              "       28033.312 , 28090.275 , 15044.195 , 29136.25  , 28004.115 ,\n",
              "       31016.2   , 23444.201 , 24813.299 , 15166.241 , 15027.189 ,\n",
              "       29999.016 , 22969.31  , 23180.812 , 21072.35  , 14986.055 ,\n",
              "       14993.064 , 18853.45  , 21156.143 , 24937.955 , 25066.28  ,\n",
              "       14943.411 , 35006.98  , 34965.33  , 31014.35  , 15009.876 ,\n",
              "       22932.762 , 15205.298 , 25021.135 , 29027.797 , 27863.803 ,\n",
              "       28988.12  , 23151.2   , 28994.023 , 15165.28  , 22957.361 ,\n",
              "       23022.748 , 15265.791 , 15000.926 , 24621.91  , 19109.51  ,\n",
              "       22933.771 , 23055.72  , 22695.21  , 23103.46  , 22964.594 ,\n",
              "       15022.511 , 27940.664 , 20948.547 , 20970.68  , 14979.319 ,\n",
              "       19114.709 , 37990.465 , 22973.58  , 15068.156 , 27997.865 ,\n",
              "       29004.898 , 28062.574 , 15084.079 , 25036.404 , 23018.54  ,\n",
              "       22930.6   , 22967.723 , 15579.069 , 27992.885 , 22966.469 ,\n",
              "       28874.293 , 25124.053 , 30054.469 , 28037.482 , 28925.719 ,\n",
              "       22974.871 , 34942.22  , 28987.346 , 29996.977 , 23174.352 ,\n",
              "       14973.461 , 15003.839 , 28989.568 , 23082.523 , 22985.68  ,\n",
              "       22964.48  , 15074.111 , 22984.23  , 24961.338 , 21034.785 ,\n",
              "       35086.17  , 23026.777 , 28946.697 , 27994.072 , 14993.256 ,\n",
              "       23254.13  , 24985.111 , 14958.041 , 15034.269 , 29986.047 ,\n",
              "       28941.994 , 23197.363 , 15097.95  , 23044.805 , 28002.998 ,\n",
              "       30970.246 , 23183.572 , 28016.05  , 30960.764 , 34963.15  ,\n",
              "       28015.305 , 25004.525 , 15034.884 , 29732.098 , 35567.24  ,\n",
              "       30064.473 , 30977.191 , 35031.23  , 28032.654 , 14881.801 ,\n",
              "       24965.22  , 30026.154 , 28040.752 , 15012.029 , 22864.188 ,\n",
              "       28169.787 , 23175.621 , 30980.018 , 29815.564 , 27960.986 ,\n",
              "       27934.088 , 15052.147 , 15035.617 , 24986.354 , 23193.543 ,\n",
              "       14969.09  , 23116.17  , 23016.785 , 27964.312 , 14992.985 ,\n",
              "       35877.117 , 14987.767 , 23024.54  , 20878.002 , 15020.542 ,\n",
              "       23164.47  , 23067.756 , 22925.379 , 34908.19  , 22947.426 ,\n",
              "       14951.727 , 22891.584 , 35060.773 , 24898.404 , 15037.684 ,\n",
              "       23072.463 , 28041.277 , 23066.1   , 21116.152 , 15013.991 ,\n",
              "       27959.74  , 24898.258 , 27919.777 , 28011.951 , 14923.824 ,\n",
              "       34755.72  , 22952.492 , 24995.705 , 23408.53  , 31002.78  ,\n",
              "       29764.39  , 27985.146 , 14994.709 , 28870.371 , 14984.5205,\n",
              "       23072.762 , 24901.12  , 28035.578 , 30984.227 , 28061.436 ,\n",
              "       29920.227 , 15012.26  , 15033.298 , 15013.396 , 23009.492 ,\n",
              "       38190.742 , 24952.125 , 19126.076 , 23010.467 , 22920.494 ,\n",
              "       27996.055 , 28031.914 , 28995.885 , 23024.752 , 22841.58  ,\n",
              "       29730.18  , 23074.984 , 25103.666 , 25008.883 , 23060.992 ,\n",
              "       15042.623 , 24996.658 , 22936.223 , 22975.586 , 15004.246 ,\n",
              "       29010.707 , 15156.285 , 15279.635 , 22963.367 , 28076.512 ,\n",
              "       28932.355 , 22976.174 , 23296.688 , 22944.336 , 22980.477 ,\n",
              "       22748.016 , 23063.61  , 24970.457 , 23068.656 , 14988.362 ,\n",
              "       15015.407 , 27774.453 , 22986.434 , 25008.578 , 24932.81  ,\n",
              "       27921.24  , 15035.508 , 15026.357 , 28000.531 , 22978.557 ,\n",
              "       23018.79  , 24977.574 , 24967.553 , 28957.045 , 19081.395 ,\n",
              "       23207.04  , 14897.79  , 15016.586 , 22975.967 , 37950.47  ,\n",
              "       29983.414 , 28985.549 , 22956.459 , 15113.199 , 14941.074 ,\n",
              "       20994.83  , 30007.297 , 25038.42  , 31545.365 , 23012.15  ,\n",
              "       30940.047 , 14888.312 , 23160.924 , 23064.078 , 29035.854 ,\n",
              "       26000.334 , 24984.723 , 15022.517 , 24953.557 , 14949.308 ,\n",
              "       22957.709 , 23064.219 , 30932.861 , 17515.162 , 23067.357 ,\n",
              "       37981.12  , 19017.01  , 28041.729 , 14990.333 , 15073.406 ,\n",
              "       28144.98  , 24952.473 , 28021.656 , 27980.994 , 14997.6   ,\n",
              "       30026.477 , 14948.763 , 22961.87  , 28034.643 , 15120.246 ,\n",
              "       24753.555 , 15226.387 , 14994.57  , 25034.178 , 37992.223 ,\n",
              "       23002.742 , 28085.049 , 23168.436 , 28218.432 , 22922.648 ,\n",
              "       27958.137 , 28925.6   , 27960.371 , 29013.584 , 14903.747 ,\n",
              "       22989.684 , 27980.83  , 37999.2   , 28005.7   , 25045.611 ,\n",
              "       38010.66  , 14967.859 , 31049.164 , 37672.957 , 15072.992 ,\n",
              "       15234.669 , 28894.904 , 25096.682 , 38042.62  , 23062.805 ,\n",
              "       24997.172 , 25002.934 , 30975.209 , 26284.072 , 29157.652 ,\n",
              "       15165.043 , 28899.705 , 14985.342 , 23079.396 , 37995.074 ,\n",
              "       23156.111 , 25343.434 , 21042.154 , 25217.297 , 27885.387 ,\n",
              "       20994.96  , 28951.154 , 29019.184 , 29974.043 , 27972.168 ,\n",
              "       15001.164 , 21112.22  , 25881.693 , 23682.342 , 22996.955 ,\n",
              "       16032.247 , 24813.145 , 15077.737 , 23051.023 , 23316.822 ,\n",
              "       14967.489 , 29909.383 , 15020.371 , 30967.668 , 23070.008 ,\n",
              "       22914.787 , 28057.87  , 15078.642 , 22975.537 , 38593.13  ,\n",
              "       15188.543 , 27969.303 , 28980.38  , 29010.705 , 20434.791 ,\n",
              "       28036.146 , 28984.766 , 23085.654 , 15029.023 , 22951.842 ,\n",
              "       23151.47  , 23069.623 , 23320.537 , 28059.889 , 23122.844 ,\n",
              "       23347.49  , 16039.734 , 19051.203 , 28956.172 , 18988.502 ,\n",
              "       21079.896 , 22957.584 , 15163.171 , 38042.504 , 30968.607 ,\n",
              "       15380.992 , 15031.558 , 22992.607 , 25028.105 , 27937.117 ,\n",
              "       30853.32  , 27990.04  , 24957.758 , 28001.549 , 25026.482 ,\n",
              "       38022.184 , 23207.328 , 30879.877 , 14980.29  , 28057.111 ,\n",
              "       15056.099 , 14940.862 , 22992.68  , 28022.338 , 23093.84  ,\n",
              "       24975.842 , 20998.906 , 35047.875 , 24971.686 , 22762.137 ,\n",
              "       22964.129 , 29774.828 , 23322.908 , 22790.44  , 30918.842 ,\n",
              "       27905.994 , 22983.764 , 23006.287 , 23052.068 , 24900.783 ,\n",
              "       21071.842 , 23044.729 , 23078.83  ], dtype=float32)"
            ]
          },
          "metadata": {},
          "execution_count": 15
        }
      ]
    },
    {
      "cell_type": "markdown",
      "metadata": {
        "id": "wQhfqLU6XeRx"
      },
      "source": [
        "Prediction on Test Data "
      ]
    },
    {
      "cell_type": "code",
      "source": [
        "# accuracy for prediction on test data\n",
        "test_data_prediction = model.predict(X_test)\n",
        "test_data_prediction"
      ],
      "metadata": {
        "id": "k7pMatMDnwsV",
        "colab": {
          "base_uri": "https://localhost:8080/"
        },
        "outputId": "a61c0c6a-6d06-4bf2-978d-623bddc1c8e3"
      },
      "execution_count": 16,
      "outputs": [
        {
          "output_type": "execute_result",
          "data": {
            "text/plain": [
              "array([31522.592, 34418.977, 22939.62 , 29325.85 , 27299.066, 32133.8  ,\n",
              "       16277.406, 27771.814, 30520.424, 25124.678, 27165.387, 23610.73 ,\n",
              "       15442.265, 24848.695, 28449.059, 23090.574, 28731.201, 22938.918,\n",
              "       30183.084, 14819.499, 40606.508, 23725.55 , 23538.85 , 15160.81 ,\n",
              "       23222.527, 23665.338, 14916.795, 23837.049, 25534.871, 28327.965,\n",
              "       28728.133, 14576.701, 27556.139, 28253.668, 26795.512, 27302.924,\n",
              "       24269.375, 14511.605, 23201.299, 23870.516, 14903.758, 22992.707,\n",
              "       20332.379, 23119.092, 27744.418, 14815.873, 23401.953, 28691.2  ,\n",
              "       26494.936, 37648.145, 23266.2  , 15244.201, 28419.104, 26956.568,\n",
              "       28412.113, 22408.646, 22889.9  , 27215.402, 30084.893, 25092.826,\n",
              "       22964.139, 14243.423, 29196.65 , 22780.059, 22943.955, 34752.117,\n",
              "       28880.977, 27959.85 , 26176.28 , 34540.254, 27726.47 , 36155.066,\n",
              "       22570.07 , 37894.832, 37438.855, 15981.653, 14941.79 , 28913.098,\n",
              "       24414.393, 25144.031, 14952.204, 23900.447, 15337.753, 23302.256,\n",
              "       27569.678, 23678.988, 27420.967, 32412.92 , 14376.33 , 22637.361,\n",
              "       22452.367, 23381.81 , 15576.298, 26513.285, 22796.19 , 28929.393,\n",
              "       28263.146, 16184.505, 22226.979, 23218.373, 14782.216, 29304.209,\n",
              "       24730.826, 22854.87 , 14638.587, 14680.345, 38940.777, 22948.709,\n",
              "       27295.662, 15125.018, 29408.908, 33515.03 , 28972.969, 15514.735,\n",
              "       14488.184, 24762.709, 37731.383, 29669.158, 16259.543, 23288.852,\n",
              "       28582.303, 21694.412, 37068.37 , 19228.717, 33818.363, 28553.291,\n",
              "       22535.912, 24593.338, 24968.27 , 23712.418, 23012.967, 14766.904,\n",
              "       26384.426, 29031.219, 15166.653, 23449.85 , 27975.244, 14781.149,\n",
              "       31686.078, 10558.625, 29855.422, 26165.63 , 25327.723, 23452.914,\n",
              "       14616.505, 25085.875, 15339.826, 15822.14 , 28525.176, 22789.61 ,\n",
              "       28131.975, 27196.5  , 21724.135, 27716.262, 27780.943, 28964.387,\n",
              "       23712.826, 25486.45 , 23309.97 , 23116.23 , 17018.406, 31565.127,\n",
              "       25264.006, 21709.947, 22338.428, 15061.782, 15934.144, 28958.566,\n",
              "       26135.096, 30955.49 , 27889.771, 15837.314, 27589.041, 25223.43 ,\n",
              "       27782.396, 34398.777, 23591.133, 29318.508, 14279.961, 24624.842,\n",
              "       23413.695, 25260.81 , 28122.564, 27882.207, 29143.58 , 23065.123,\n",
              "       38652.48 , 16649.197, 23045.678, 34952.56 , 24801.293, 24943.729,\n",
              "       29291.693, 15155.576, 15037.299, 38769.566, 23687.016, 34400.555],\n",
              "      dtype=float32)"
            ]
          },
          "metadata": {},
          "execution_count": 16
        }
      ]
    },
    {
      "cell_type": "markdown",
      "metadata": {
        "id": "iQexBkcF2wxN"
      },
      "source": [
        "## XGBRegressor ML model Score"
      ]
    },
    {
      "cell_type": "code",
      "source": [
        "#mean accuracy (accuracy score)\n",
        "#measuring the accuracy of the model against the training data \n",
        "model.score(X_train, Y_train)"
      ],
      "metadata": {
        "colab": {
          "base_uri": "https://localhost:8080/"
        },
        "id": "mzR_Lukut6YM",
        "outputId": "d1252268-b60d-4343-bd8d-9367c981b353"
      },
      "execution_count": 17,
      "outputs": [
        {
          "output_type": "execute_result",
          "data": {
            "text/plain": [
              "0.999625650447872"
            ]
          },
          "metadata": {},
          "execution_count": 17
        }
      ]
    },
    {
      "cell_type": "code",
      "source": [
        "#mean accuracy (accuracy score)\n",
        "#measuring the accuracy of the model against the test data \n",
        "model.score(X_test, Y_test)"
      ],
      "metadata": {
        "colab": {
          "base_uri": "https://localhost:8080/"
        },
        "id": "F1FmsZqMtB8d",
        "outputId": "e1d01e5d-4a16-4ba5-c5f3-3ef90765b08d"
      },
      "execution_count": 18,
      "outputs": [
        {
          "output_type": "execute_result",
          "data": {
            "text/plain": [
              "0.8099216961227746"
            ]
          },
          "metadata": {},
          "execution_count": 18
        }
      ]
    },
    {
      "cell_type": "markdown",
      "metadata": {
        "id": "uSnVinOyQR7P"
      },
      "source": [
        "Lets Cross Validate and Check how the model performs."
      ]
    },
    {
      "cell_type": "code",
      "source": [
        "#cross validation\n",
        "#it is used to protect against overfitting in a predictive model, \n",
        "#particularly in a case where the amount of data may be limited. In cross-validation, \n",
        "#you make a fixed number of folds (or partitions) of the data, run the analysis on each fold, and then average the overall error estimate.\n",
        "#cv = 5 ==> partition the data in2 4 Training & 1 Testing Data parts\n",
        "print(cross_val_score(model, X, Y, cv = 5))"
      ],
      "metadata": {
        "colab": {
          "base_uri": "https://localhost:8080/"
        },
        "id": "9tQBKRB_toGl",
        "outputId": "4b3aa12f-232f-42be-da56-7c9813568209"
      },
      "execution_count": 19,
      "outputs": [
        {
          "output_type": "stream",
          "name": "stdout",
          "text": [
            "[0.8201978  0.72201425 0.78901907 0.82596822 0.63907311]\n"
          ]
        }
      ]
    },
    {
      "cell_type": "markdown",
      "metadata": {
        "id": "gq8ZX1xpwPF5"
      },
      "source": [
        "Making a Predictive System"
      ]
    },
    {
      "cell_type": "code",
      "source": [
        "#v r predicting by giving the input \n",
        "print(\"***Price of Medical Insurance***\")\n",
        "print('---------------------------------')\n",
        "\n",
        "a = int(input(\"Enter the Age of the Customer : \"))\n",
        "b = int(input(\"Does the Customer has Diabetes (1 = Yes, 0 = No) : \"))\n",
        "c = int(input(\"Does the Customer has Blood Pressure Problems (1 = Yes, 0 = No) : \"))\n",
        "d = int(input(\"Does the Customer has Any Transplants (1 = Yes, 0 = No) : \"))\n",
        "e = int(input(\"Does the Customer has Any Chronic Diseases (1 = Yes, 0 = No) : \"))\n",
        "f = float(input(\"Height of Customer (in cm) : \"))\n",
        "g = float(input(\"Weight of Customer (in kg) : \"))\n",
        "h = int(input(\"Does the Customer has Known Allergies (1 = Yes, 0 = No) : \"))\n",
        "i = int(input(\"Does the Customer has History Of Cancer In Family (1 = Yes, 0 = No) : \"))\n",
        "j = int(input(\"Number Of Major Surgeries for Customer : \"))\n",
        "\n",
        "input_data = np.array([[a, b, c, d, e, f, g, h, i, j]])\n",
        "\n",
        "# changing input_data to a numpy array\n",
        "input_data_as_numpy_array = np.asarray(input_data)\n",
        "\n",
        "# reshape the array\n",
        "input_data_reshaped = input_data_as_numpy_array.reshape(1,-1)\n",
        "\n",
        "prediction = model.predict(input_data_reshaped)\n",
        "print(\"-----------------------------------------------------------------------------------\")\n",
        "\n",
        "print('The Medical Insurance cost : $', prediction[0])"
      ],
      "metadata": {
        "id": "zAy_CYe5qIHV",
        "colab": {
          "base_uri": "https://localhost:8080/"
        },
        "outputId": "c0d784ca-c32c-4b26-d487-7f73ce265905"
      },
      "execution_count": 20,
      "outputs": [
        {
          "output_type": "stream",
          "name": "stdout",
          "text": [
            "***Price of Medical Insurance***\n",
            "---------------------------------\n",
            "Enter the Age of the Customer : 20\n",
            "Does the Customer has Diabetes (1 = Yes, 0 = No) : 0\n",
            "Does the Customer has Blood Pressure Problems (1 = Yes, 0 = No) : 0\n",
            "Does the Customer has Any Transplants (1 = Yes, 0 = No) : 0\n",
            "Does the Customer has Any Chronic Diseases (1 = Yes, 0 = No) : 0\n",
            "Height of Customer (in cm) : 185\n",
            "Weight of Customer (in kg) : 105\n",
            "Does the Customer has Known Allergies (1 = Yes, 0 = No) : 1\n",
            "Does the Customer has History Of Cancer In Family (1 = Yes, 0 = No) : 0\n",
            "Number Of Major Surgeries for Customer : 0\n",
            "-----------------------------------------------------------------------------------\n",
            "The Medical Insurance cost : $ 15739.655\n"
          ]
        }
      ]
    },
    {
      "cell_type": "code",
      "source": [
        "import pickle\n",
        "\n",
        "with open('medical_insurance_model.pkl', 'wb') as file:\n",
        "  pickle.dump(model, file)"
      ],
      "metadata": {
        "id": "7AwGpeXJL2SM"
      },
      "execution_count": 21,
      "outputs": []
    },
    {
      "cell_type": "markdown",
      "source": [
        "# Summary\n",
        "So this is how we can build a Medical Insurance Premium Prediction model using Machine Learning and the Python programming language. I hope you liked this project on how to build a  model with Machine Learning."
      ],
      "metadata": {
        "id": "zppcuj75tZXY"
      }
    }
  ]
}